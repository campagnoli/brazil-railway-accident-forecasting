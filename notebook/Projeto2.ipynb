{
 "cells": [
  {
   "cell_type": "markdown",
   "id": "d3421913-be71-44c3-89db-96a029d96bb9",
   "metadata": {},
   "source": [
    "# 📊 Análise e Projeção de Acidentes Ferroviários no Brasil\n",
    "\n",
    "## 🎯 Objetivo\n",
    "Este notebook tem como objetivo realizar uma análise exploratória e uma projeção futura dos dados de acidentes ferroviários fornecidos pela **Agência Nacional de Transportes Terrestres (ANTT)**. Vamos investigar padrões históricos e, ao final, aplicar um modelo de série temporal para projetar a tendência de acidentes para os próximos dois anos.\n",
    "\n",
    "## 💾 Fonte dos Dados\n",
    "Os dados foram baixados em formato **JSON** a partir do **Portal Nacional de Dados Abertos**. A fonte original é mantida pela ANTT.\n",
    "*   **Órgão:** Agência Nacional de Transportes Terrestres (ANTT)\n",
    "*   **Referência:** [Dados de Acidentes Ferroviários](https://www.dados.gov.br/dados/conjuntos-dados/acidentes-ferroviarios)\n",
    "\n",
    "## ⚙️ Metodologia\n",
    "A análise será dividida nas seguintes etapas:\n",
    "1.  **Carregamento dos Dados**: Leitura do arquivo **JSON** e carregamento em um DataFrame.\n",
    "2.  **Limpeza e Preparação**: Tratamento de valores ausentes, conversão de tipos de dados e formatação.\n",
    "3.  **Análise Exploratória (EDA)**: Geração de estatísticas descritivas e investigação de perguntas de negócio.\n",
    "4.  **Visualização de Dados**: Criação de gráficos para comunicar os achados da análise.\n",
    "5.  **🔮 Projeção (Forecasting)**: Utilização de modelos de séries temporais para projetar o número de acidentes futuros.\n",
    "\n",
    "## 📚 Bibliotecas Utilizadas\n",
    "Nesta análise, faremos uso das seguintes bibliotecas Python:\n",
    "*   `pandas`: Para manipulação e análise dos dados.\n",
    "*   `numpy`: Para operações numéricas.\n",
    "*   `matplotlib`: Para a criação de gráficos e visualizações.\n",
    "*   `statsmodels`: Para aplicar modelos estatísticos e de séries temporais."
   ]
  },
  {
   "cell_type": "markdown",
   "id": "9e14733c-7539-437b-bf98-e9ac3bde5874",
   "metadata": {},
   "source": [
    "## 1. 📂 Carregamento e Inspeção Inicial dos Dados\n",
    "Nesta primeira etapa, vamos carregar as bibliotecas essenciais para nossa análise e ler o arquivo JSON contendo os dados de acidentes. Em seguida, faremos uma inspeção inicial para entender a estrutura e o formato do nosso DataFrame."
   ]
  },
  {
   "cell_type": "code",
   "execution_count": 2,
   "id": "60cab33e-23ac-4b38-b1c9-04ce85277015",
   "metadata": {},
   "outputs": [
    {
     "name": "stdout",
     "output_type": "stream",
     "text": [
      "A versão do Pandas utilizada nesse Projeto é 2.3.0\n",
      "A versão do NumPy utilizada nesse Projeto é 1.26.4\n",
      "A versão do Matplot utilizada nesse Projeto é 3.8.0\n"
     ]
    }
   ],
   "source": [
    "#Importando as bibliotecas necessárias para a análise\n",
    "import pandas as pd\n",
    "import numpy as np\n",
    "import matplotlib as mtl\n",
    "import matplotlib.pyplot  as plt\n",
    "\n",
    "#Comando que melhora a visualização dos gráficos no Jupyter Notebook\n",
    "%matplotlib inline\n",
    "\n",
    "#Imprimindo as versões das bibliotecas utilizadas\n",
    "print ('A versão do Pandas utilizada nesse Projeto é', pd.__version__)\n",
    "print ('A versão do NumPy utilizada nesse Projeto é', np.__version__)\n",
    "print ('A versão do Matplot utilizada nesse Projeto é', mtl.__version__)"
   ]
  },
  {
   "cell_type": "code",
   "execution_count": 9,
   "id": "01b77453-ba4c-47aa-b245-f50ff27ce5a5",
   "metadata": {},
   "outputs": [
    {
     "data": {
      "text/html": [
       "<div>\n",
       "<style scoped>\n",
       "    .dataframe tbody tr th:only-of-type {\n",
       "        vertical-align: middle;\n",
       "    }\n",
       "\n",
       "    .dataframe tbody tr th {\n",
       "        vertical-align: top;\n",
       "    }\n",
       "\n",
       "    .dataframe thead th {\n",
       "        text-align: right;\n",
       "    }\n",
       "</style>\n",
       "<table border=\"1\" class=\"dataframe\">\n",
       "  <thead>\n",
       "    <tr style=\"text-align: right;\">\n",
       "      <th></th>\n",
       "      <th>Causa Contibutiva</th>\n",
       "      <th>N° de feridos</th>\n",
       "      <th>Gravidade</th>\n",
       "      <th>Double Stack</th>\n",
       "      <th>Serviço de Transporte</th>\n",
       "      <th>Hora da Ocorrência</th>\n",
       "      <th>Outra Ferrovia</th>\n",
       "      <th>PN</th>\n",
       "      <th>N° de óbitos</th>\n",
       "      <th>Natureza</th>\n",
       "      <th>...</th>\n",
       "      <th>Ano da Ocorrência</th>\n",
       "      <th>Interrupção</th>\n",
       "      <th>Quilômetro Final</th>\n",
       "      <th>Mercadoria</th>\n",
       "      <th>Quilômetro Inicial</th>\n",
       "      <th>Perímetro Urbano</th>\n",
       "      <th>Município</th>\n",
       "      <th>Equipagem</th>\n",
       "      <th>Prefixo</th>\n",
       "      <th>Estação Posterior</th>\n",
       "    </tr>\n",
       "  </thead>\n",
       "  <tbody>\n",
       "    <tr>\n",
       "      <th>0</th>\n",
       "      <td>Sem Informação</td>\n",
       "      <td>0</td>\n",
       "      <td>Não</td>\n",
       "      <td>Sem Informação</td>\n",
       "      <td>Cargas</td>\n",
       "      <td>00:40</td>\n",
       "      <td>SI</td>\n",
       "      <td>Sim</td>\n",
       "      <td>0</td>\n",
       "      <td>Descarrilamento</td>\n",
       "      <td>...</td>\n",
       "      <td>2015</td>\n",
       "      <td>14.0</td>\n",
       "      <td>0.0</td>\n",
       "      <td>Sem Informação</td>\n",
       "      <td>450.0</td>\n",
       "      <td>Não</td>\n",
       "      <td>Acailandia</td>\n",
       "      <td>RAMILSON PEREIRA DE MORAIS</td>\n",
       "      <td>C210</td>\n",
       "      <td>Sem Informação</td>\n",
       "    </tr>\n",
       "    <tr>\n",
       "      <th>1</th>\n",
       "      <td>Sem Informação</td>\n",
       "      <td>0</td>\n",
       "      <td>Não</td>\n",
       "      <td>Sem Informação</td>\n",
       "      <td>Cargas</td>\n",
       "      <td>08:54</td>\n",
       "      <td>SI</td>\n",
       "      <td>Não</td>\n",
       "      <td>0</td>\n",
       "      <td>Descarrilamento</td>\n",
       "      <td>...</td>\n",
       "      <td>2012</td>\n",
       "      <td>0.0</td>\n",
       "      <td>0.0</td>\n",
       "      <td>Sem Informação</td>\n",
       "      <td>514.0</td>\n",
       "      <td>Não</td>\n",
       "      <td>Acailandia</td>\n",
       "      <td>ANTONIA JANAINA OLIVEIRA DOS SANTOS</td>\n",
       "      <td>C001</td>\n",
       "      <td>Sem Informação</td>\n",
       "    </tr>\n",
       "    <tr>\n",
       "      <th>2</th>\n",
       "      <td>Sem Informação</td>\n",
       "      <td>0</td>\n",
       "      <td>Não</td>\n",
       "      <td>Não</td>\n",
       "      <td>Cargas</td>\n",
       "      <td>11:53</td>\n",
       "      <td>SI</td>\n",
       "      <td>Não</td>\n",
       "      <td>0</td>\n",
       "      <td>Descarrilamento</td>\n",
       "      <td>...</td>\n",
       "      <td>2020</td>\n",
       "      <td>1.0</td>\n",
       "      <td>0.0</td>\n",
       "      <td>Minerio de Ferro</td>\n",
       "      <td>512.0</td>\n",
       "      <td>Não</td>\n",
       "      <td>Acailandia</td>\n",
       "      <td>CRISTIANO CHAVES DE ARAUJO</td>\n",
       "      <td>M130</td>\n",
       "      <td>Açailândia</td>\n",
       "    </tr>\n",
       "    <tr>\n",
       "      <th>3</th>\n",
       "      <td>Sem Informação</td>\n",
       "      <td>0</td>\n",
       "      <td>Não</td>\n",
       "      <td>Sem Informação</td>\n",
       "      <td>Cargas</td>\n",
       "      <td>22:11</td>\n",
       "      <td>SI</td>\n",
       "      <td>Não</td>\n",
       "      <td>0</td>\n",
       "      <td>Descarrilamento</td>\n",
       "      <td>...</td>\n",
       "      <td>2012</td>\n",
       "      <td>0.0</td>\n",
       "      <td>0.0</td>\n",
       "      <td>Sem Informação</td>\n",
       "      <td>513.0</td>\n",
       "      <td>Não</td>\n",
       "      <td>Acailandia</td>\n",
       "      <td>FELLIPE WESLEY LEOMIL</td>\n",
       "      <td>C058</td>\n",
       "      <td>Sem Informação</td>\n",
       "    </tr>\n",
       "    <tr>\n",
       "      <th>4</th>\n",
       "      <td>Sem Informação</td>\n",
       "      <td>0</td>\n",
       "      <td>Não</td>\n",
       "      <td>Sem Informação</td>\n",
       "      <td>Cargas</td>\n",
       "      <td>20:21</td>\n",
       "      <td>FNSTN</td>\n",
       "      <td>Não</td>\n",
       "      <td>0</td>\n",
       "      <td>Descarrilamento</td>\n",
       "      <td>...</td>\n",
       "      <td>2018</td>\n",
       "      <td>12.0</td>\n",
       "      <td>0.0</td>\n",
       "      <td>SOJA EM GRÃOS COMUM</td>\n",
       "      <td>473.0</td>\n",
       "      <td>Não</td>\n",
       "      <td>Acailandia</td>\n",
       "      <td>ADRIANO OLIVEIRA BATISTA</td>\n",
       "      <td>J314</td>\n",
       "      <td>Açailândia</td>\n",
       "    </tr>\n",
       "  </tbody>\n",
       "</table>\n",
       "<p>5 rows × 31 columns</p>\n",
       "</div>"
      ],
      "text/plain": [
       "  Causa Contibutiva  N° de feridos Gravidade    Double Stack  \\\n",
       "0    Sem Informação              0       Não  Sem Informação   \n",
       "1    Sem Informação              0       Não  Sem Informação   \n",
       "2    Sem Informação              0       Não             Não   \n",
       "3    Sem Informação              0       Não  Sem Informação   \n",
       "4    Sem Informação              0       Não  Sem Informação   \n",
       "\n",
       "  Serviço de Transporte Hora da Ocorrência Outra Ferrovia   PN  N° de óbitos  \\\n",
       "0                Cargas              00:40             SI  Sim             0   \n",
       "1                Cargas              08:54             SI  Não             0   \n",
       "2                Cargas              11:53             SI  Não             0   \n",
       "3                Cargas              22:11             SI  Não             0   \n",
       "4                Cargas              20:21          FNSTN  Não             0   \n",
       "\n",
       "          Natureza  ... Ano da Ocorrência  Interrupção Quilômetro Final  \\\n",
       "0  Descarrilamento  ...              2015         14.0              0.0   \n",
       "1  Descarrilamento  ...              2012          0.0              0.0   \n",
       "2  Descarrilamento  ...              2020          1.0              0.0   \n",
       "3  Descarrilamento  ...              2012          0.0              0.0   \n",
       "4  Descarrilamento  ...              2018         12.0              0.0   \n",
       "\n",
       "            Mercadoria Quilômetro Inicial  Perímetro Urbano   Município  \\\n",
       "0       Sem Informação              450.0               Não  Acailandia   \n",
       "1       Sem Informação              514.0               Não  Acailandia   \n",
       "2     Minerio de Ferro              512.0               Não  Acailandia   \n",
       "3       Sem Informação              513.0               Não  Acailandia   \n",
       "4  SOJA EM GRÃOS COMUM              473.0               Não  Acailandia   \n",
       "\n",
       "                             Equipagem  Prefixo  Estação Posterior  \n",
       "0           RAMILSON PEREIRA DE MORAIS     C210     Sem Informação  \n",
       "1  ANTONIA JANAINA OLIVEIRA DOS SANTOS     C001     Sem Informação  \n",
       "2           CRISTIANO CHAVES DE ARAUJO     M130         Açailândia  \n",
       "3                FELLIPE WESLEY LEOMIL     C058     Sem Informação  \n",
       "4             ADRIANO OLIVEIRA BATISTA     J314         Açailândia  \n",
       "\n",
       "[5 rows x 31 columns]"
      ]
     },
     "execution_count": 9,
     "metadata": {},
     "output_type": "execute_result"
    }
   ],
   "source": [
    "#Carregando o arquivo JSON para um DataFrame do Pandas\n",
    "df = pd.read_json('../data/dataset.json')\n",
    "#Exbibindo as cinco primeiras linhas do DataFrame\n",
    "df.head()"
   ]
  },
  {
   "cell_type": "code",
   "execution_count": 5,
   "id": "16f2880c-9250-450b-924b-e8cce065dd16",
   "metadata": {},
   "outputs": [
    {
     "name": "stdout",
     "output_type": "stream",
     "text": [
      "<class 'pandas.core.frame.DataFrame'>\n",
      "RangeIndex: 13797 entries, 0 to 13796\n",
      "Data columns (total 31 columns):\n",
      " #   Column                  Non-Null Count  Dtype  \n",
      "---  ------                  --------------  -----  \n",
      " 0   Causa Contibutiva       13797 non-null  object \n",
      " 1   N° de feridos           13797 non-null  int64  \n",
      " 2   Gravidade               13797 non-null  object \n",
      " 3   Double Stack            13797 non-null  object \n",
      " 4   Serviço de Transporte   13797 non-null  object \n",
      " 5   Hora da Ocorrência      13797 non-null  object \n",
      " 6   Outra Ferrovia          13797 non-null  object \n",
      " 7   PN                      13797 non-null  object \n",
      " 8   N° de óbitos            13797 non-null  int64  \n",
      " 9   Natureza                13797 non-null  object \n",
      " 10  Data da Ocorrência      13797 non-null  object \n",
      " 11  Cód. IBGE do Município  13797 non-null  int64  \n",
      " 12  Concessionaria          13797 non-null  object \n",
      " 13  Linha                   13797 non-null  object \n",
      " 14  UF                      13797 non-null  object \n",
      " 15  Prejuízo Financeiro     13797 non-null  int64  \n",
      " 16  Cód. IBGE da UF         13797 non-null  int64  \n",
      " 17  Estação Anterior        13797 non-null  object \n",
      " 18  Mês da Ocorrência       13797 non-null  int64  \n",
      " 19  N° de Trem              13797 non-null  int64  \n",
      " 20  Causa Direta            13797 non-null  object \n",
      " 21  Ano da Ocorrência       13797 non-null  int64  \n",
      " 22  Interrupção             13797 non-null  float64\n",
      " 23  Quilômetro Final        13797 non-null  float64\n",
      " 24  Mercadoria              13797 non-null  object \n",
      " 25  Quilômetro Inicial      13700 non-null  float64\n",
      " 26  Perímetro Urbano        13797 non-null  object \n",
      " 27  Município               13797 non-null  object \n",
      " 28  Equipagem               13797 non-null  object \n",
      " 29  Prefixo                 13797 non-null  object \n",
      " 30  Estação Posterior       13797 non-null  object \n",
      "dtypes: float64(3), int64(8), object(20)\n",
      "memory usage: 3.3+ MB\n"
     ]
    }
   ],
   "source": [
    "#Agora com o .info() vamos obter um resumo técnico completo do DataFrame (tipo de dados, valores nulos, etc)\n",
    "df.info()"
   ]
  },
  {
   "cell_type": "markdown",
   "id": "9a04e012-01dc-48d4-9cf3-8de1538b31c4",
   "metadata": {},
   "source": [
    "## 🧹 2. Limpeza e Preparação dos Dados\n",
    "Nesta seção, vamos \"arrumar a casa\". Um conjunto de dados limpo é a base para qualquer análise confiável. Nossas tarefas serão:\n",
    "- Padronizar os nomes das colunas (removendo espaços e acentos).\n",
    "- Substituir os valores de texto que indicam ausência de dados (como \"Sem Informação\") por um valor nulo padrão (`NaN`).\n",
    "- Converter colunas para os tipos de dados corretos (especialmente a coluna de data)."
   ]
  },
  {
   "cell_type": "code",
   "execution_count": 6,
   "id": "7de8a4aa-222b-4b5d-b431-031b8793f57c",
   "metadata": {},
   "outputs": [
    {
     "data": {
      "text/html": [
       "<div>\n",
       "<style scoped>\n",
       "    .dataframe tbody tr th:only-of-type {\n",
       "        vertical-align: middle;\n",
       "    }\n",
       "\n",
       "    .dataframe tbody tr th {\n",
       "        vertical-align: top;\n",
       "    }\n",
       "\n",
       "    .dataframe thead th {\n",
       "        text-align: right;\n",
       "    }\n",
       "</style>\n",
       "<table border=\"1\" class=\"dataframe\">\n",
       "  <thead>\n",
       "    <tr style=\"text-align: right;\">\n",
       "      <th></th>\n",
       "      <th>causa_contributiva</th>\n",
       "      <th>n_feridos</th>\n",
       "      <th>gravidade</th>\n",
       "      <th>double_stack</th>\n",
       "      <th>servico_transporte</th>\n",
       "      <th>hora_ocorrencia</th>\n",
       "      <th>outra_ferrovia</th>\n",
       "      <th>pn</th>\n",
       "      <th>n_obitos</th>\n",
       "      <th>natureza</th>\n",
       "      <th>...</th>\n",
       "      <th>ano_ocorrencia</th>\n",
       "      <th>interrupcao</th>\n",
       "      <th>quilometro_final</th>\n",
       "      <th>mercadoria</th>\n",
       "      <th>quilometro_inicial</th>\n",
       "      <th>perimetro_urbano</th>\n",
       "      <th>municipio</th>\n",
       "      <th>equipagem</th>\n",
       "      <th>prefixo</th>\n",
       "      <th>estacao_posterior</th>\n",
       "    </tr>\n",
       "  </thead>\n",
       "  <tbody>\n",
       "    <tr>\n",
       "      <th>0</th>\n",
       "      <td>Sem Informação</td>\n",
       "      <td>0</td>\n",
       "      <td>Não</td>\n",
       "      <td>Sem Informação</td>\n",
       "      <td>Cargas</td>\n",
       "      <td>00:40</td>\n",
       "      <td>SI</td>\n",
       "      <td>Sim</td>\n",
       "      <td>0</td>\n",
       "      <td>Descarrilamento</td>\n",
       "      <td>...</td>\n",
       "      <td>2015</td>\n",
       "      <td>14.0</td>\n",
       "      <td>0.0</td>\n",
       "      <td>Sem Informação</td>\n",
       "      <td>450.0</td>\n",
       "      <td>Não</td>\n",
       "      <td>Acailandia</td>\n",
       "      <td>RAMILSON PEREIRA DE MORAIS</td>\n",
       "      <td>C210</td>\n",
       "      <td>Sem Informação</td>\n",
       "    </tr>\n",
       "    <tr>\n",
       "      <th>1</th>\n",
       "      <td>Sem Informação</td>\n",
       "      <td>0</td>\n",
       "      <td>Não</td>\n",
       "      <td>Sem Informação</td>\n",
       "      <td>Cargas</td>\n",
       "      <td>08:54</td>\n",
       "      <td>SI</td>\n",
       "      <td>Não</td>\n",
       "      <td>0</td>\n",
       "      <td>Descarrilamento</td>\n",
       "      <td>...</td>\n",
       "      <td>2012</td>\n",
       "      <td>0.0</td>\n",
       "      <td>0.0</td>\n",
       "      <td>Sem Informação</td>\n",
       "      <td>514.0</td>\n",
       "      <td>Não</td>\n",
       "      <td>Acailandia</td>\n",
       "      <td>ANTONIA JANAINA OLIVEIRA DOS SANTOS</td>\n",
       "      <td>C001</td>\n",
       "      <td>Sem Informação</td>\n",
       "    </tr>\n",
       "    <tr>\n",
       "      <th>2</th>\n",
       "      <td>Sem Informação</td>\n",
       "      <td>0</td>\n",
       "      <td>Não</td>\n",
       "      <td>Não</td>\n",
       "      <td>Cargas</td>\n",
       "      <td>11:53</td>\n",
       "      <td>SI</td>\n",
       "      <td>Não</td>\n",
       "      <td>0</td>\n",
       "      <td>Descarrilamento</td>\n",
       "      <td>...</td>\n",
       "      <td>2020</td>\n",
       "      <td>1.0</td>\n",
       "      <td>0.0</td>\n",
       "      <td>Minerio de Ferro</td>\n",
       "      <td>512.0</td>\n",
       "      <td>Não</td>\n",
       "      <td>Acailandia</td>\n",
       "      <td>CRISTIANO CHAVES DE ARAUJO</td>\n",
       "      <td>M130</td>\n",
       "      <td>Açailândia</td>\n",
       "    </tr>\n",
       "    <tr>\n",
       "      <th>3</th>\n",
       "      <td>Sem Informação</td>\n",
       "      <td>0</td>\n",
       "      <td>Não</td>\n",
       "      <td>Sem Informação</td>\n",
       "      <td>Cargas</td>\n",
       "      <td>22:11</td>\n",
       "      <td>SI</td>\n",
       "      <td>Não</td>\n",
       "      <td>0</td>\n",
       "      <td>Descarrilamento</td>\n",
       "      <td>...</td>\n",
       "      <td>2012</td>\n",
       "      <td>0.0</td>\n",
       "      <td>0.0</td>\n",
       "      <td>Sem Informação</td>\n",
       "      <td>513.0</td>\n",
       "      <td>Não</td>\n",
       "      <td>Acailandia</td>\n",
       "      <td>FELLIPE WESLEY LEOMIL</td>\n",
       "      <td>C058</td>\n",
       "      <td>Sem Informação</td>\n",
       "    </tr>\n",
       "    <tr>\n",
       "      <th>4</th>\n",
       "      <td>Sem Informação</td>\n",
       "      <td>0</td>\n",
       "      <td>Não</td>\n",
       "      <td>Sem Informação</td>\n",
       "      <td>Cargas</td>\n",
       "      <td>20:21</td>\n",
       "      <td>FNSTN</td>\n",
       "      <td>Não</td>\n",
       "      <td>0</td>\n",
       "      <td>Descarrilamento</td>\n",
       "      <td>...</td>\n",
       "      <td>2018</td>\n",
       "      <td>12.0</td>\n",
       "      <td>0.0</td>\n",
       "      <td>SOJA EM GRÃOS COMUM</td>\n",
       "      <td>473.0</td>\n",
       "      <td>Não</td>\n",
       "      <td>Acailandia</td>\n",
       "      <td>ADRIANO OLIVEIRA BATISTA</td>\n",
       "      <td>J314</td>\n",
       "      <td>Açailândia</td>\n",
       "    </tr>\n",
       "  </tbody>\n",
       "</table>\n",
       "<p>5 rows × 31 columns</p>\n",
       "</div>"
      ],
      "text/plain": [
       "  causa_contributiva  n_feridos gravidade    double_stack servico_transporte  \\\n",
       "0     Sem Informação          0       Não  Sem Informação             Cargas   \n",
       "1     Sem Informação          0       Não  Sem Informação             Cargas   \n",
       "2     Sem Informação          0       Não             Não             Cargas   \n",
       "3     Sem Informação          0       Não  Sem Informação             Cargas   \n",
       "4     Sem Informação          0       Não  Sem Informação             Cargas   \n",
       "\n",
       "  hora_ocorrencia outra_ferrovia   pn  n_obitos         natureza  ...  \\\n",
       "0           00:40             SI  Sim         0  Descarrilamento  ...   \n",
       "1           08:54             SI  Não         0  Descarrilamento  ...   \n",
       "2           11:53             SI  Não         0  Descarrilamento  ...   \n",
       "3           22:11             SI  Não         0  Descarrilamento  ...   \n",
       "4           20:21          FNSTN  Não         0  Descarrilamento  ...   \n",
       "\n",
       "  ano_ocorrencia  interrupcao quilometro_final           mercadoria  \\\n",
       "0           2015         14.0              0.0       Sem Informação   \n",
       "1           2012          0.0              0.0       Sem Informação   \n",
       "2           2020          1.0              0.0     Minerio de Ferro   \n",
       "3           2012          0.0              0.0       Sem Informação   \n",
       "4           2018         12.0              0.0  SOJA EM GRÃOS COMUM   \n",
       "\n",
       "  quilometro_inicial  perimetro_urbano   municipio  \\\n",
       "0              450.0               Não  Acailandia   \n",
       "1              514.0               Não  Acailandia   \n",
       "2              512.0               Não  Acailandia   \n",
       "3              513.0               Não  Acailandia   \n",
       "4              473.0               Não  Acailandia   \n",
       "\n",
       "                             equipagem  prefixo  estacao_posterior  \n",
       "0           RAMILSON PEREIRA DE MORAIS     C210     Sem Informação  \n",
       "1  ANTONIA JANAINA OLIVEIRA DOS SANTOS     C001     Sem Informação  \n",
       "2           CRISTIANO CHAVES DE ARAUJO     M130         Açailândia  \n",
       "3                FELLIPE WESLEY LEOMIL     C058     Sem Informação  \n",
       "4             ADRIANO OLIVEIRA BATISTA     J314         Açailândia  \n",
       "\n",
       "[5 rows x 31 columns]"
      ]
     },
     "execution_count": 6,
     "metadata": {},
     "output_type": "execute_result"
    }
   ],
   "source": [
    "#Padronizando os nomes de todas as colunas para o formato snake_case\n",
    "df.columns = [\n",
    "     'causa_contributiva', 'n_feridos', 'gravidade', 'double_stack', 'servico_transporte',\n",
    "    'hora_ocorrencia', 'outra_ferrovia', 'pn', 'n_obitos', 'natureza', 'data_ocorrencia',\n",
    "    'cod_ibge_municipio', 'concessionaria', 'linha', 'uf', 'prejuizo_financeiro',\n",
    "    'cod_ibge_uf', 'estacao_anterior', 'mes_ocorrencia', 'n_trem', 'causa_direta',\n",
    "    'ano_ocorrencia', 'interrupcao', 'quilometro_final', 'mercadoria', 'quilometro_inicial',\n",
    "    'perimetro_urbano', 'municipio', 'equipagem', 'prefixo', 'estacao_posterior'\n",
    "]\n",
    "\n",
    "#Exibindo os 5 primeiros registros com os novos nomes de coluna para verificarção \n",
    "df.head()"
   ]
  },
  {
   "cell_type": "code",
   "execution_count": 10,
   "id": "614c0871-795e-4aaa-bee1-d51b5ce9bb69",
   "metadata": {},
   "outputs": [],
   "source": [
    "#Substituindo a string 'Sem informação' pelo valor nulo padrão (np.nan) em todo o DataFrame\n",
    "df.replace('Sem Informação', np.nan, inplace=True)"
   ]
  },
  {
   "cell_type": "code",
   "execution_count": 11,
   "id": "10bff6d5-9ea5-40b3-af3b-875432b8bb4e",
   "metadata": {},
   "outputs": [
    {
     "name": "stdout",
     "output_type": "stream",
     "text": [
      "<class 'pandas.core.frame.DataFrame'>\n",
      "RangeIndex: 13797 entries, 0 to 13796\n",
      "Data columns (total 31 columns):\n",
      " #   Column               Non-Null Count  Dtype  \n",
      "---  ------               --------------  -----  \n",
      " 0   causa_contributiva   2906 non-null   object \n",
      " 1   n_feridos            13797 non-null  int64  \n",
      " 2   gravidade            13797 non-null  object \n",
      " 3   double_stack         2853 non-null   object \n",
      " 4   servico_transporte   11928 non-null  object \n",
      " 5   hora_ocorrencia      13797 non-null  object \n",
      " 6   outra_ferrovia       13797 non-null  object \n",
      " 7   pn                   13797 non-null  object \n",
      " 8   n_obitos             13797 non-null  int64  \n",
      " 9   natureza             13608 non-null  object \n",
      " 10  data_ocorrencia      13797 non-null  object \n",
      " 11  cod_ibge_municipio   13797 non-null  int64  \n",
      " 12  concessionaria       13797 non-null  object \n",
      " 13  linha                13660 non-null  object \n",
      " 14  uf                   13797 non-null  object \n",
      " 15  prejuizo_financeiro  13797 non-null  int64  \n",
      " 16  cod_ibge_uf          13797 non-null  int64  \n",
      " 17  estacao_anterior     13659 non-null  object \n",
      " 18  mes_ocorrencia       13797 non-null  int64  \n",
      " 19  n_trem               13797 non-null  int64  \n",
      " 20  causa_direta         13261 non-null  object \n",
      " 21  ano_ocorrencia       13797 non-null  int64  \n",
      " 22  interrupcao          13797 non-null  float64\n",
      " 23  quilometro_final     13797 non-null  float64\n",
      " 24  mercadoria           6931 non-null   object \n",
      " 25  quilometro_inicial   13700 non-null  float64\n",
      " 26  perimetro_urbano     13794 non-null  object \n",
      " 27  municipio            13639 non-null  object \n",
      " 28  equipagem            11367 non-null  object \n",
      " 29  prefixo              13355 non-null  object \n",
      " 30  estacao_posterior    7081 non-null   object \n",
      "dtypes: float64(3), int64(8), object(20)\n",
      "memory usage: 3.3+ MB\n"
     ]
    }
   ],
   "source": [
    "#Verificando novamente as informações do DataFrame para confirmar a substituição\n",
    "df.info()"
   ]
  },
  {
   "cell_type": "code",
   "execution_count": 15,
   "id": "c2af94bd-7b34-48d3-9963-05ec82be4215",
   "metadata": {},
   "outputs": [
    {
     "name": "stdout",
     "output_type": "stream",
     "text": [
      "datetime64[ns]\n"
     ]
    }
   ],
   "source": [
    "#Convertendo a coluna 'data_ocorrencia' de object (texto) para datetime (data)\n",
    "#O formato '%Y - %m -%d' indica Ano-mês-dia\n",
    "df['data_ocorrencia'] = pd.to_datetime(df['data_ocorrencia'], format='%Y-%m-%d', errors='coerce')\n",
    "\n",
    "#Verificando o tipod a coluna novamente para confirmar a conversão\n",
    "print (df['data_ocorrencia'].dtype)"
   ]
  },
  {
   "cell_type": "code",
   "execution_count": 16,
   "id": "7ba338d2-08a8-407b-b1a1-fff65a702df1",
   "metadata": {},
   "outputs": [
    {
     "data": {
      "text/html": [
       "<div>\n",
       "<style scoped>\n",
       "    .dataframe tbody tr th:only-of-type {\n",
       "        vertical-align: middle;\n",
       "    }\n",
       "\n",
       "    .dataframe tbody tr th {\n",
       "        vertical-align: top;\n",
       "    }\n",
       "\n",
       "    .dataframe thead th {\n",
       "        text-align: right;\n",
       "    }\n",
       "</style>\n",
       "<table border=\"1\" class=\"dataframe\">\n",
       "  <thead>\n",
       "    <tr style=\"text-align: right;\">\n",
       "      <th></th>\n",
       "      <th>data_ocorrencia</th>\n",
       "      <th>dia_semana</th>\n",
       "    </tr>\n",
       "  </thead>\n",
       "  <tbody>\n",
       "    <tr>\n",
       "      <th>0</th>\n",
       "      <td>2015-04-01</td>\n",
       "      <td>Wednesday</td>\n",
       "    </tr>\n",
       "    <tr>\n",
       "      <th>1</th>\n",
       "      <td>2012-11-08</td>\n",
       "      <td>Thursday</td>\n",
       "    </tr>\n",
       "    <tr>\n",
       "      <th>2</th>\n",
       "      <td>2020-12-18</td>\n",
       "      <td>Friday</td>\n",
       "    </tr>\n",
       "    <tr>\n",
       "      <th>3</th>\n",
       "      <td>2012-03-03</td>\n",
       "      <td>Saturday</td>\n",
       "    </tr>\n",
       "    <tr>\n",
       "      <th>4</th>\n",
       "      <td>2018-03-07</td>\n",
       "      <td>Wednesday</td>\n",
       "    </tr>\n",
       "  </tbody>\n",
       "</table>\n",
       "</div>"
      ],
      "text/plain": [
       "  data_ocorrencia dia_semana\n",
       "0      2015-04-01  Wednesday\n",
       "1      2012-11-08   Thursday\n",
       "2      2020-12-18     Friday\n",
       "3      2012-03-03   Saturday\n",
       "4      2018-03-07  Wednesday"
      ]
     },
     "execution_count": 16,
     "metadata": {},
     "output_type": "execute_result"
    }
   ],
   "source": [
    "#Criando uma nova coluna chamada 'dia_semana' com o nome do dia da semana da ocorrência\n",
    "#Lembrando: isso só é possível pois a coluna 'data_ocorrencia' esta no formato datetime\n",
    "df['dia_semana'] = df ['data_ocorrencia'].dt.day_name()\n",
    "\n",
    "#Exibindo as colunas 'data_ocorrencia' e a nova 'dia_semana' das cinco primeiras linhas para verificar\n",
    "df[['data_ocorrencia', 'dia_semana']].head()"
   ]
  },
  {
   "cell_type": "markdown",
   "id": "800d5ff1-f31c-46cf-88cc-ebedc0280d83",
   "metadata": {},
   "source": [
    "### ✨ Enriquecimento dos Dados: Análise de Feriados\n",
    "\n",
    "Durante a fase de preparação dos dados, surgiu a hipótese de que feriados poderiam ter uma correlação com o número de acidentes ferroviários, potencialmente devido a fatores como aumento do fluxo ou imprudência. Para investigar essa possibilidade, decidimos enriquecer nosso conjunto de dados criando uma coluna específica para classificar as ocorrências em relação a feriados nacionais.\n",
    "\n",
    "Para isso, utilizamos a biblioteca `holidays` do Python. A nova coluna, chamada `feriado`, classificará cada data da seguinte forma:\n",
    "\n",
    "-   **`Sim`**: A ocorrência aconteceu exatamente em um feriado nacional.\n",
    "-   **`D-1`**: A ocorrência aconteceu na véspera de um feriado nacional.\n",
    "-   **`D+1`**: A ocorrência aconteceu no dia seguinte a um feriado nacional.\n",
    "-   **`Não`**: A ocorrência aconteceu em um dia comum.\n",
    "\n",
    "Esta nova variável nos permitirá segmentar e comparar a incidência de acidentes, buscando padrões relacionados a essas datas específicas."
   ]
  },
  {
   "cell_type": "code",
   "execution_count": 19,
   "id": "f9444dcd-86b4-437b-99ee-92e7eb7f721c",
   "metadata": {},
   "outputs": [],
   "source": [
    "#Instalando a biblioteca 'holidays' para obter a lista de feriados do Brasil\n",
    "!pip install holidays -q"
   ]
  },
  {
   "cell_type": "code",
   "execution_count": 21,
   "id": "23e11350-986e-4cb5-b06a-3d572159251b",
   "metadata": {},
   "outputs": [],
   "source": [
    "#Importando a biblioteca de feriados\n",
    "import holidays\n",
    "\n",
    "#Importando o Timedalta para somar/subtrarir dias de datas\n",
    "from pandas import Timedelta"
   ]
  },
  {
   "cell_type": "code",
   "execution_count": 23,
   "id": "b499cc0b-333e-49c4-b2e9-919b0b22168b",
   "metadata": {},
   "outputs": [
    {
     "name": "stdout",
     "output_type": "stream",
     "text": [
      "Analisando feriados entre os anos de 2004 e 2024...\n"
     ]
    }
   ],
   "source": [
    "#Primeiro, vamos descobrir o intervalo de anos dos nossos dados\n",
    "star_year = df['data_ocorrencia'].dt.year.min()\n",
    "end_year = df ['data_ocorrencia'].dt.year.max()\n",
    "\n",
    "print (f'Analisando feriados entre os anos de {star_year} e {end_year}...' )"
   ]
  },
  {
   "cell_type": "code",
   "execution_count": 24,
   "id": "cb96b84a-4023-4a81-a62a-d8344b3f9fbd",
   "metadata": {},
   "outputs": [],
   "source": [
    "#Agora vamos cirar a lista de feriados nacionais do Brasil para esses anos\n",
    "#O metódo holidays.BR() mps dá um dicionário de feriados para os anos especificados\n",
    "br_holidays = holidays.BR(years=range(star_year, end_year + 1))"
   ]
  },
  {
   "cell_type": "code",
   "execution_count": 28,
   "id": "e18116ea-946a-41fd-bc84-7037f0f6401f",
   "metadata": {},
   "outputs": [],
   "source": [
    "#Para uma verificação masi rápida, vamos colocar apenas as DATAS em um conjunto (set)\n",
    "#O .date() é para garantir que estamos comparando apenas a data, sem a hora. \n",
    "feriados_datas = set(br_holidays.keys())"
   ]
  },
  {
   "cell_type": "code",
   "execution_count": 31,
   "id": "eac5bf0b-5408-49d1-9675-e698226b730a",
   "metadata": {},
   "outputs": [],
   "source": [
    "#Criando o conjunto de VÉSPERAS (D-1), então para cada feriado será subtraido 1 dia\n",
    "vesperas_data = {feriado - Timedelta(days=1) for feriado in feriados_datas}\n",
    "\n",
    "#Criando o conjunto de dias posteriores (D+1), então para cada feriado adicionamos 1 dia\n",
    "pos_feriado = {feriado + Timedelta(days=1) for feriado in feriados_datas}"
   ]
  },
  {
   "cell_type": "code",
   "execution_count": 52,
   "id": "9d6e2294-6b0b-49c1-aedd-50421b778dd1",
   "metadata": {},
   "outputs": [],
   "source": [
    "#Criando uma função que fará a classificação das datas\n",
    "def classificar_feriado(data):\n",
    "    \n",
    "    #.date() extrai apenas a parte da data do Timestamp, permitindo a comparação.\n",
    "    data_apenas = data.date()\n",
    "    \n",
    "    #Verificamos se a data está no conjunto de feriados\n",
    "    if data_apenas in feriados_datas:\n",
    "        return 'Sim'\n",
    "    #Se não for feriado, verficamos se é uma véspera\n",
    "    elif data_apenas in vesperas_data:\n",
    "        return 'D-1'\n",
    "    #Se não for véspera, verificamos se é o dia seguinte ao feriado\n",
    "    elif data_apenas in pos_feriado:\n",
    "        return 'D+1'\n",
    "    #Se não for nenhum dos anteriores, é um dia normal\n",
    "    else:\n",
    "        return 'Não'"
   ]
  },
  {
   "cell_type": "code",
   "execution_count": 53,
   "id": "034b86b2-d73f-427b-b3c7-da527726f657",
   "metadata": {},
   "outputs": [],
   "source": [
    "#Aplicando a função 'classificar_feriado' na coluna 'data' para criar a nova coluna 'feriado'\n",
    "#O método ,apply() irá executar nossa função para cada linha da coluna 'data_ocorrencia'\n",
    "df ['feriado'] = df['data_ocorrencia'].apply(classificar_feriado)"
   ]
  },
  {
   "cell_type": "code",
   "execution_count": 54,
   "id": "6e4fbdc0-57d9-4fef-ab64-170f376ba426",
   "metadata": {},
   "outputs": [
    {
     "data": {
      "text/html": [
       "<div>\n",
       "<style scoped>\n",
       "    .dataframe tbody tr th:only-of-type {\n",
       "        vertical-align: middle;\n",
       "    }\n",
       "\n",
       "    .dataframe tbody tr th {\n",
       "        vertical-align: top;\n",
       "    }\n",
       "\n",
       "    .dataframe thead th {\n",
       "        text-align: right;\n",
       "    }\n",
       "</style>\n",
       "<table border=\"1\" class=\"dataframe\">\n",
       "  <thead>\n",
       "    <tr style=\"text-align: right;\">\n",
       "      <th></th>\n",
       "      <th>data_ocorrencia</th>\n",
       "      <th>feriado</th>\n",
       "    </tr>\n",
       "  </thead>\n",
       "  <tbody>\n",
       "    <tr>\n",
       "      <th>0</th>\n",
       "      <td>2015-04-01</td>\n",
       "      <td>Não</td>\n",
       "    </tr>\n",
       "    <tr>\n",
       "      <th>1</th>\n",
       "      <td>2012-11-08</td>\n",
       "      <td>Não</td>\n",
       "    </tr>\n",
       "    <tr>\n",
       "      <th>2</th>\n",
       "      <td>2020-12-18</td>\n",
       "      <td>Não</td>\n",
       "    </tr>\n",
       "    <tr>\n",
       "      <th>3</th>\n",
       "      <td>2012-03-03</td>\n",
       "      <td>Não</td>\n",
       "    </tr>\n",
       "    <tr>\n",
       "      <th>4</th>\n",
       "      <td>2018-03-07</td>\n",
       "      <td>Não</td>\n",
       "    </tr>\n",
       "  </tbody>\n",
       "</table>\n",
       "</div>"
      ],
      "text/plain": [
       "  data_ocorrencia feriado\n",
       "0      2015-04-01     Não\n",
       "1      2012-11-08     Não\n",
       "2      2020-12-18     Não\n",
       "3      2012-03-03     Não\n",
       "4      2018-03-07     Não"
      ]
     },
     "execution_count": 54,
     "metadata": {},
     "output_type": "execute_result"
    }
   ],
   "source": [
    "#Exibindo as primeiras 5 linhas das colunas 'data_ocorrencia' e 'feriado' para verificação \n",
    "df[['data_ocorrencia', 'feriado']].head()"
   ]
  },
  {
   "cell_type": "code",
   "execution_count": 55,
   "id": "151ee875-c7a7-4f5c-a51a-d7dd75817e57",
   "metadata": {},
   "outputs": [
    {
     "data": {
      "text/plain": [
       "feriado\n",
       "Não    12810\n",
       "D+1      358\n",
       "D-1      322\n",
       "Sim      307\n",
       "Name: count, dtype: int64"
      ]
     },
     "execution_count": 55,
     "metadata": {},
     "output_type": "execute_result"
    }
   ],
   "source": [
    "#Contando a quantidade de ocorrências para cada categoria na coluna 'feriado'\n",
    "df['feriado'].value_counts()"
   ]
  },
  {
   "cell_type": "markdown",
   "id": "6af4b063-1706-47a3-8972-649d97977e9a",
   "metadata": {},
   "source": [
    "## 🔎 3. Análise Exploratória de Dados (EDA)\n",
    "\n",
    "**Objetivo:**\n",
    "Nesta seção, iniciaremos a fase de investigação dos dados. A Análise Exploratória de Dados (EDA) é o coração do nosso projeto, onde transformamos os dados limpos em insights. Nosso objetivo é \"conversar\" com os dados, fazendo perguntas e usando técnicas estatísticas e de agrupamento para descobrir padrões, tendências, anomalias e relações entre as variáveis.\n",
    "\n",
    "**Metodologia:**\n",
    "Vamos abordar a EDA de forma estruturada, respondendo a perguntas-chave sobre os acidentes. Para cada pergunta, faremos o seguinte:\n",
    "*   **Formular a Pergunta:** Definir claramente o que queremos descobrir.\n",
    "*   **Manipular os Dados:** Usar funções do Pandas como `groupby()`, `value_counts()`, e agregações (`sum()`, `mean()`, etc.) para calcular as métricas necessárias.\n",
    "*   **Apresentar o Resultado:** Exibir os resultados em formato de tabelas ou séries para uma primeira interpretação.\n",
    "*   **Visualizar (Próxima Etapa):** Posteriormente, na seção de visualização, transformaremos esses resultados em gráficos para facilitar a comunicação dos achados.\n",
    "\n",
    "**Perguntas a serem respondidas nesta seção:**\n",
    "*   Qual a natureza de acidente mais comum?\n",
    "*   Qual concessionária registra o maior número de ocorrências?\n",
    "*   Como os acidentes fatais (com óbitos) se distribuem entre as concessionárias?\n",
    "*   Os acidentes são mais comuns em perímetro urbano ou rural?"
   ]
  },
  {
   "cell_type": "code",
   "execution_count": 58,
   "id": "00000c68-585b-426e-b689-460ad4d96268",
   "metadata": {},
   "outputs": [
    {
     "name": "stdout",
     "output_type": "stream",
     "text": [
      "natureza\n",
      "Descarrilamento    4974\n",
      "Atropelamento      4138\n",
      "Abalroamento       4125\n",
      "Colisão             235\n",
      "Incêndio            134\n",
      "Explosão              2\n",
      "Name: count, dtype: int64\n"
     ]
    }
   ],
   "source": [
    "#Contando a ocorrência de cada tipo de 'natureza' de acidente\n",
    "contagem_natureza = df['natureza'].value_counts()\n",
    "\n",
    "#Imprimindo o resutado\n",
    "print (contagem_natureza)"
   ]
  },
  {
   "cell_type": "code",
   "execution_count": 75,
   "id": "de5952b9-7b3e-4a73-b055-1362b9073813",
   "metadata": {},
   "outputs": [
    {
     "name": "stdout",
     "output_type": "stream",
     "text": [
      "concessionaria\n",
      "RMS      3511\n",
      "FCA      2836\n",
      "MRS      2117\n",
      "RMP      1739\n",
      "FTL      1571\n",
      "RMO       633\n",
      "EFVM      511\n",
      "EFC       414\n",
      "RMN       224\n",
      "FTC       118\n",
      "FNSTN      76\n",
      "EFPO       35\n",
      "RMC        12\n",
      "Name: count, dtype: int64\n"
     ]
    }
   ],
   "source": [
    "#Contando o número de acidentes por concessionárias\n",
    "contagem_concessionarias = df ['concessionaria'].value_counts()\n",
    "\n",
    "#Imprimindo o resultado \n",
    "print (contagem_concessionarias)"
   ]
  },
  {
   "cell_type": "code",
   "execution_count": 74,
   "id": "75d2e5ac-14d8-4059-8275-49adb4847bb0",
   "metadata": {},
   "outputs": [
    {
     "name": "stdout",
     "output_type": "stream",
     "text": [
      "concessionaria\n",
      "MRS      510\n",
      "RMS      312\n",
      "RMP      250\n",
      "FCA      200\n",
      "EFVM      98\n",
      "EFC       73\n",
      "FTL       69\n",
      "RMO       15\n",
      "RMN       13\n",
      "FNSTN     10\n",
      "FTC        8\n",
      "RMC        2\n",
      "EFPO       1\n",
      "Name: n_obitos, dtype: int64\n"
     ]
    }
   ],
   "source": [
    "#Agrupando os dados pro 'concessionaria' e somando o 'n_obitos' para cada uma.\n",
    "#Na sequência, ordenaremos do maior para o menor. \n",
    "obitos_por_concessionaria = df.groupby('concessionaria') ['n_obitos'].sum().sort_values(ascending=False)\n",
    "\n",
    "#Exibindo o resultado \n",
    "print (obitos_por_concessionaria)"
   ]
  },
  {
   "cell_type": "code",
   "execution_count": 61,
   "id": "ac03b25e-ca44-48bd-b782-c25ae645f5e3",
   "metadata": {},
   "outputs": [
    {
     "name": "stdout",
     "output_type": "stream",
     "text": [
      "perimetro_urbano\n",
      "Não                                    8075\n",
      "trecho corrido                           97\n",
      "Trecho Corrido                           89\n",
      "Trecho corrido                           66\n",
      "Trecho corrido (Curitiba)                65\n",
      "                                       ... \n",
      "Governador valadares                      1\n",
      "BAGUARI                                   1\n",
      "Próx. à Rua Leandro Batista Pereira       1\n",
      "Trecho corrido (Guaporé)                  1\n",
      "Trecho corrido (Votuporanga)              1\n",
      "Name: count, Length: 3188, dtype: int64\n"
     ]
    }
   ],
   "source": [
    "#Contando o número de acidentes em perímetro urbano vs não urbano \n",
    "contagem_perimetro = df['perimetro_urbano'].value_counts()\n",
    "\n",
    "#Imprimindo o resultado\n",
    "print (contagem_perimetro)"
   ]
  },
  {
   "cell_type": "markdown",
   "id": "08f7b4af-c996-4e0f-9c53-e5e1379016a3",
   "metadata": {},
   "source": [
    "### 3.1. Ajuste nos Dados: Padronização da Coluna `perimetro_urbano`\n",
    "\n",
    "**Contexto da Descoberta:**\n",
    "Durante a Análise Exploratória (EDA), ao investigarmos a coluna `perimetro_urbano`, descobrimos um problema de qualidade que impede nossa análise.\n",
    "\n",
    "**O Problema:**\n",
    "O resultado do comando `.value_counts()` revelou que a coluna, em vez de conter apenas as respostas \"Sim\" e \"Não\", possui milhares de valores únicos. Isso ocorre porque o campo foi preenchido com textos livres, incluindo:\n",
    "*   Variações de capitalização (\"Trecho Corrido\", \"trecho corrido\").\n",
    "*   Descrições detalhadas (\"Trecho corrido (Curitiba)\").\n",
    "*   Nomes de locais e outras informações não padronizadas.\n",
    "\n",
    "Essa inconsistência torna impossível agrupar os dados de forma eficaz para responder à nossa pergunta.\n",
    "\n",
    "**A Solução:**\n",
    "Vamos criar e aplicar uma função para padronizar essa coluna. A regra será a seguinte: todo valor que for exatamente **\"Sim\"** será mantido, e **todos os outros valores** serão convertidos para **\"Não\"**. Essa abordagem nos dará uma coluna binária e consistente, permitindo finalmente responder à pergunta sobre a incidência de acidentes em áreas urbanas versus rurais."
   ]
  },
  {
   "cell_type": "code",
   "execution_count": 62,
   "id": "18fc06c5-8c54-4f18-a58c-f66c517e2023",
   "metadata": {},
   "outputs": [],
   "source": [
    "#Criando função para padronizar a coluna 'perimetro_urbano'. Se o valor for 'sim', retorna 'Sim'. Caso contrário, retorna 'não'\n",
    "\n",
    "def padronizar_perimetro(valor):\n",
    "    if valor == 'Sim':\n",
    "        return 'Sim'\n",
    "    else: \n",
    "        return 'Não'"
   ]
  },
  {
   "cell_type": "code",
   "execution_count": 63,
   "id": "e6dfe235-9860-408d-80e7-4864b2a134bf",
   "metadata": {},
   "outputs": [],
   "source": [
    "#Aplicando a função para limpar e padronizar a coluna 'perimetro_urbano'\n",
    "df ['perimetro_urbano'] = df ['perimetro_urbano'].apply(padronizar_perimetro)"
   ]
  },
  {
   "cell_type": "code",
   "execution_count": 65,
   "id": "b189f20d-bbda-45a7-b88b-fa13d3d0b46b",
   "metadata": {},
   "outputs": [
    {
     "data": {
      "text/plain": [
       "perimetro_urbano\n",
       "Não    13776\n",
       "Sim       21\n",
       "Name: count, dtype: int64"
      ]
     },
     "execution_count": 65,
     "metadata": {},
     "output_type": "execute_result"
    }
   ],
   "source": [
    "#Verificando 'perimetro_urbano' após a padronização\n",
    "df['perimetro_urbano'].value_counts()"
   ]
  },
  {
   "cell_type": "markdown",
   "id": "8cde9a9d-990f-4c7d-bd00-b639ee303c54",
   "metadata": {},
   "source": [
    "### ✅ Padronização Concluída: Retornando à Análise\n",
    "\n",
    "A etapa de limpeza da coluna `perimetro_urbano` foi bem-sucedida. O resultado final nos mostra uma distribuição clara e inequívoca:\n",
    "\n",
    "*   **Não:** 13.776 ocorrências (fora do perímetro urbano)\n",
    "*   **Sim:** 21 ocorrências (dentro do perímetro urbano)\n",
    "\n",
    "Este resultado por si só já é um insight poderoso: a grande maioria dos acidentes registrados acontece em áreas não urbanas.\n",
    "\n",
    "Com esta questão resolvida, podemos agora concluir formalmente nossa primeira rodada de Análise Exploratória e avançar para a próxima etapa do projeto: a **Visualização de Dados**."
   ]
  },
  {
   "cell_type": "markdown",
   "id": "63f7e62f-e382-4a57-b203-8939cd8bd02b",
   "metadata": {},
   "source": [
    "## 📊 4. Visualização de Dados\n",
    "\n",
    "**Objetivo:**\n",
    "Nesta seção, vamos traduzir os insights que obtivemos na Análise Exploratória (EDA) em gráficos e visualizações. O objetivo é comunicar nossos achados de forma clara, intuitiva e impactante. Um bom gráfico muitas vezes conta uma história mais eficazmente do que uma tabela de números, permitindo-nos identificar tendências e padrões de forma visual.\n",
    "\n",
    "**Metodologia:**\n",
    "Utilizaremos principalmente a biblioteca `matplotlib` em conjunto com a `seaborn`. A `seaborn` é uma biblioteca construída sobre o `matplotlib` que nos permite criar gráficos estatísticos mais atraentes e complexos com menos código. Para cada insight gerado na EDA, escolheremos o tipo de gráfico mais adequado.\n",
    "\n",
    "**Visualizações a serem criadas:**\n",
    "*   **Gráfico de Barras:** Para comparar a quantidade de acidentes por **Natureza**.\n",
    "*   **Gráfico de Barras:** Para ranquear as **Concessionárias** por número de acidentes.\n",
    "*   **Gráfico de Barras:** Para ranquear as **Concessionárias** por número de **óbitos**, permitindo comparar com o gráfico anterior.\n",
    "*   **Gráfico de Linha:** Para analisar a **evolução do número de acidentes ao longo dos anos**, o que nos dará uma visão da tendência temporal."
   ]
  },
  {
   "cell_type": "code",
   "execution_count": 67,
   "id": "9db8e3a5-3748-4ffb-9196-16055713042d",
   "metadata": {},
   "outputs": [],
   "source": [
    "#Importando o seaborn\n",
    "\n",
    "import seaborn as sns"
   ]
  },
  {
   "cell_type": "code",
   "execution_count": 69,
   "id": "45a5f080-2417-4828-8bda-76fbc8c179db",
   "metadata": {},
   "outputs": [
    {
     "data": {
      "image/png": "[encoded data removed]",
      "text/plain": [
       "<Figure size 1200x800 with 1 Axes>"
      ]
     },
     "metadata": {},
     "output_type": "display_data"
    }
   ],
   "source": [
    "#Configurações inicias do gráfico\n",
    "sns.set_style('whitegrid')\n",
    "plt.figure(figsize=(12,8))\n",
    "\n",
    "#Criação do Gráfico\n",
    "sns.barplot(x=contagem_natureza.values, y=contagem_natureza.index, palette='viridis')\n",
    "\n",
    "#Títulos e Rótulos\n",
    "plt.title ('Distribuição por natureza do acidente', fontsize=16)\n",
    "plt.xlabel ('Número de ocorrências', fontsize=12)\n",
    "plt.ylabel ('Natureza do Acidente', fontsize=12)\n",
    "\n",
    "#Exibição\n",
    "plt.show()"
   ]
  },
  {
   "cell_type": "code",
   "execution_count": 76,
   "id": "afc70d0d-3f09-4773-93cf-7a615c3d99ca",
   "metadata": {},
   "outputs": [
    {
     "data": {
      "image/png": "[encoded data removed]",
      "text/plain": [
       "<Figure size 1200x800 with 1 Axes>"
      ]
     },
     "metadata": {},
     "output_type": "display_data"
    }
   ],
   "source": [
    "#Configurações do Gráfico\n",
    "plt.figure(figsize=(12, 8))\n",
    "\n",
    "#Criação do Gráfico\n",
    "# Usamos os dados da contagem por concessionária e uma nova paleta de cores\n",
    "sns.barplot(x=contagem_concessionarias.values, y=contagem_concessionarias.index, palette='plasma')\n",
    "\n",
    "#Títulos e Rótulos\n",
    "plt.title('Ranking de Concessionárias por Número de Acidentes', fontsize=16)\n",
    "plt.xlabel('Número de Ocorrências', fontsize=12)\n",
    "plt.ylabel('Concessionária', fontsize=12)\n",
    "\n",
    "#Exibição\n",
    "plt.show()"
   ]
  },
  {
   "cell_type": "code",
   "execution_count": 78,
   "id": "068d2a2c-eae4-46c7-abfc-a04750987493",
   "metadata": {},
   "outputs": [
    {
     "data": {
      "image/png": "[encoded data removed]",
      "text/plain": [
       "<Figure size 1200x800 with 1 Axes>"
      ]
     },
     "metadata": {},
     "output_type": "display_data"
    }
   ],
   "source": [
    "#Configurações do Gráfico\n",
    "plt.figure(figsize=(12, 8))\n",
    "\n",
    "#Criação do Gráfico\n",
    "# Agora usamos os dados de óbitos por concessionária\n",
    "sns.barplot(x=obitos_por_concessionaria.values, y=obitos_por_concessionaria.index, palette='rocket')\n",
    "\n",
    "#Títulos e Rótulos\n",
    "plt.title('Ranking de Concessionárias por Número de Óbitos', fontsize=16)\n",
    "plt.xlabel('Número Total de Óbitos', fontsize=12)\n",
    "plt.ylabel('Concessionária', fontsize=12)\n",
    "\n",
    "# Exibição\n",
    "plt.show()"
   ]
  },
  {
   "cell_type": "code",
   "execution_count": 79,
   "id": "063de979-83a4-4ca1-82d9-035fb15f7579",
   "metadata": {},
   "outputs": [
    {
     "name": "stdout",
     "output_type": "stream",
     "text": [
      "ano_ocorrencia\n",
      "2004     275\n",
      "2005     261\n",
      "2006     359\n",
      "2007     320\n",
      "2008     274\n",
      "2009     327\n",
      "2010     550\n",
      "2011    1028\n",
      "2012     959\n",
      "2013     870\n",
      "2014     833\n",
      "2015     926\n",
      "2016     693\n",
      "2017     773\n",
      "2018     856\n",
      "2019     843\n",
      "2020     734\n",
      "2021     746\n",
      "2022     782\n",
      "2023     728\n",
      "2024     660\n",
      "Name: count, dtype: int64\n"
     ]
    }
   ],
   "source": [
    "#Faremos agora uma série temporal, mas antes precisamos preparar os dados para isso. \n",
    "\n",
    "#Contando os acidentes por ano e ordenando o resultdo pelo ano (o índice)\n",
    "acidentes_por_ano = df['ano_ocorrencia'].value_counts().sort_index()\n",
    "\n",
    "#Exibindo os dados que serão plotados\n",
    "print (acidentes_por_ano)"
   ]
  },
  {
   "cell_type": "code",
   "execution_count": 80,
   "id": "7b2b602b-e9c7-45cf-84ab-71ef3a233cdc",
   "metadata": {},
   "outputs": [
    {
     "name": "stderr",
     "output_type": "stream",
     "text": [
      "/home/campagnoli/anaconda3/lib/python3.11/site-packages/seaborn/_oldcore.py:1119: FutureWarning: use_inf_as_na option is deprecated and will be removed in a future version. Convert inf values to NaN before operating instead.\n",
      "  with pd.option_context('mode.use_inf_as_na', True):\n",
      "/home/campagnoli/anaconda3/lib/python3.11/site-packages/seaborn/_oldcore.py:1119: FutureWarning: use_inf_as_na option is deprecated and will be removed in a future version. Convert inf values to NaN before operating instead.\n",
      "  with pd.option_context('mode.use_inf_as_na', True):\n"
     ]
    },
    {
     "data": {
      "image/png": "[encoded data removed]",
      "text/plain": [
       "<Figure size 1400x700 with 1 Axes>"
      ]
     },
     "metadata": {},
     "output_type": "display_data"
    }
   ],
   "source": [
    "#Configurações do Gráfico\n",
    "plt.figure(figsize=(14, 7))\n",
    "\n",
    "#Criação do Gráfico de Linha\n",
    "# Usamos a função lineplot. \n",
    "# Eixo X: os anos (índice da nossa série). Eixo Y: os valores (contagem de acidentes).\n",
    "# 'marker=\"o\"' adiciona um círculo em cada ponto de dado para melhor visualização.\n",
    "sns.lineplot(x=acidentes_por_ano.index, y=acidentes_por_ano.values, marker='o')\n",
    "\n",
    "#Títulos e Rótulos\n",
    "plt.title('Evolução do Número de Acidentes Ferroviários por Ano', fontsize=16)\n",
    "plt.xlabel('Ano', fontsize=12)\n",
    "plt.ylabel('Número de Acidentes', fontsize=12)\n",
    "\n",
    "# Melhorando os 'ticks' (marcas) do eixo X para mostrar todos os anos\n",
    "# Isso evita que o Matplotlib pule alguns anos para economizar espaço\n",
    "plt.xticks(acidentes_por_ano.index, rotation=45) \n",
    "\n",
    "# Garantindo que o layout fique bom, sem cortar os rótulos\n",
    "plt.tight_layout()\n",
    "\n",
    "#Exibição\n",
    "plt.show()"
   ]
  },
  {
   "cell_type": "markdown",
   "id": "3a9b6b9c-c19a-45bf-9976-fded49451b4b",
   "metadata": {},
   "source": [
    "## 🔮 5. Projeção com Séries Temporais (Forecasting)\n",
    "\n",
    "**Objetivo:**\n",
    "O objetivo desta seção é utilizar os dados históricos que analisamos para construir um modelo estatístico capaz de projetar a tendência do número de acidentes para os próximos 2 anos. É importante ressaltar que esta é uma **projeção educacional**, focada em aplicar a técnica, e não uma previsão de alta precisão para tomada de decisão crítica.\n",
    "\n",
    "**O que é uma Série Temporal?**\n",
    "O gráfico de linha que criamos na seção anterior é uma representação visual de uma **série temporal**: um conjunto de pontos de dados coletados em intervalos de tempo sequenciais (no nosso caso, anualmente).\n",
    "\n",
    "**Metodologia:**\n",
    "Usaremos a biblioteca `statsmodels`, uma poderosa ferramenta em Python para estatística e modelagem. O modelo que aplicaremos é o **SARIMA (Seasonal AutoRegressive Integrated Moving Average)**.\n",
    "\n",
    "*   **Por que SARIMA?** É um dos modelos de séries temporais mais robustos e amplamente utilizados. Ele é capaz de capturar:\n",
    "    *   **Tendência (Trend):** A direção geral dos dados (aumento ou diminuição ao longo do tempo).\n",
    "    *   **Sazonalidade (Seasonality):** Padrões que se repetem em intervalos fixos (embora com dados anuais, a sazonalidade seja menos evidente, o modelo pode lidar com isso).\n",
    "    *   **Autocorrelação:** A relação entre uma observação e as observações anteriores.\n",
    "\n",
    "**Nosso processo será:**\n",
    "1.  **Preparar os Dados:** Garantir que nossa série temporal (`acidentes_por_ano`) esteja em um formato adequado para o `statsmodels`.\n",
    "2.  **Construir e Treinar o Modelo:** Instanciar o modelo SARIMA e \"treiná-lo\" com nossos dados históricos.\n",
    "3.  **Gerar a Projeção:** Usar o modelo treinado para prever os valores dos próximos 2 anos.\n",
    "4.  **Visualizar o Resultado:** Plotar os dados históricos junto com a projeção e um intervalo de confiança para entendermos a incerteza da previsão."
   ]
  },
  {
   "cell_type": "code",
   "execution_count": 95,
   "id": "7787f00d-df05-4ddc-ad98-ef4d8899d29c",
   "metadata": {},
   "outputs": [],
   "source": [
    "#Primeiro, vamos importar a biblioteca statmodels\n",
    "import statsmodels as sm\n",
    "import statsmodels.api as smt"
   ]
  },
  {
   "cell_type": "code",
   "execution_count": 86,
   "id": "cb00a171-9532-4726-a17f-c4d922d4c684",
   "metadata": {},
   "outputs": [
    {
     "name": "stdout",
     "output_type": "stream",
     "text": [
      "ano_ocorrencia\n",
      "2004-01-01    275\n",
      "2005-01-01    261\n",
      "2006-01-01    359\n",
      "2007-01-01    320\n",
      "2008-01-01    274\n",
      "dtype: int64\n"
     ]
    }
   ],
   "source": [
    "#Vamos criar uma série temporal usando um DatetimIndex\n",
    "serie_temporal = pd.Series(\n",
    "    acidentes_por_ano.values,\n",
    "    index=pd.to_datetime(acidentes_por_ano.index, format='%Y')\n",
    ")\n",
    "\n",
    "#Exibibindo o inicio da nossa série temporal \n",
    "\n",
    "print (serie_temporal.head())"
   ]
  },
  {
   "cell_type": "code",
   "execution_count": 101,
   "id": "1b53bc49-8ce7-4ae1-8c9e-a00d6f2cefb0",
   "metadata": {},
   "outputs": [
    {
     "name": "stderr",
     "output_type": "stream",
     "text": [
      "/home/campagnoli/anaconda3/lib/python3.11/site-packages/statsmodels/tsa/base/tsa_model.py:473: ValueWarning: No frequency information was provided, so inferred frequency YS-JAN will be used.\n",
      "  self._init_dates(dates, freq)\n",
      "/home/campagnoli/anaconda3/lib/python3.11/site-packages/statsmodels/tsa/base/tsa_model.py:473: ValueWarning: No frequency information was provided, so inferred frequency YS-JAN will be used.\n",
      "  self._init_dates(dates, freq)\n",
      "/home/campagnoli/anaconda3/lib/python3.11/site-packages/statsmodels/tsa/statespace/sarimax.py:866: UserWarning: Too few observations to estimate starting parameters for seasonal ARMA. All parameters except for variances will be set to zeros.\n",
      "  warn('Too few observations to estimate starting parameters%s.'\n",
      "/home/campagnoli/anaconda3/lib/python3.11/site-packages/statsmodels/tools/eval_measures.py:415: RuntimeWarning: invalid value encountered in log\n",
      "  return -2.0 * llf + np.log(nobs) * df_modelwc\n",
      "/home/campagnoli/anaconda3/lib/python3.11/site-packages/statsmodels/tools/eval_measures.py:440: RuntimeWarning: invalid value encountered in log\n",
      "  return -2.0 * llf + 2 * np.log(np.log(nobs)) * df_modelwc\n",
      "/home/campagnoli/anaconda3/lib/python3.11/site-packages/statsmodels/tsa/statespace/mlemodel.py:3015: RuntimeWarning: divide by zero encountered in divide\n",
      "  return self.params / self.bse\n",
      "/home/campagnoli/anaconda3/lib/python3.11/site-packages/statsmodels/tsa/statespace/mlemodel.py:3015: RuntimeWarning: invalid value encountered in divide\n",
      "  return self.params / self.bse\n",
      "/home/campagnoli/anaconda3/lib/python3.11/site-packages/statsmodels/tsa/stattools.py:470: RuntimeWarning: Mean of empty slice.\n",
      "  xo = x - x.mean()\n"
     ]
    },
    {
     "name": "stdout",
     "output_type": "stream",
     "text": [
      "                                     SARIMAX Results                                      \n",
      "==========================================================================================\n",
      "Dep. Variable:                                  y   No. Observations:                   21\n",
      "Model:             SARIMAX(1, 1, 1)x(1, 1, 1, 12)   Log Likelihood                   0.000\n",
      "Date:                            Wed, 25 Jun 2025   AIC                             10.000\n",
      "Time:                                    19:32:49   BIC                                nan\n",
      "Sample:                                01-01-2004   HQIC                               nan\n",
      "                                     - 01-01-2024                                         \n",
      "Covariance Type:                              opg                                         \n",
      "==============================================================================\n",
      "                 coef    std err          z      P>|z|      [0.025      0.975]\n",
      "------------------------------------------------------------------------------\n",
      "ar.L1         -0.2665         -0        inf      0.000      -0.267      -0.267\n",
      "ma.L1          0.6719         -0       -inf      0.000       0.672       0.672\n",
      "ar.S.L12            0         -0        nan        nan           0           0\n",
      "ma.S.L12            0         -0        nan        nan           0           0\n",
      "sigma2      7.056e+04         -0       -inf      0.000    7.06e+04    7.06e+04\n",
      "===================================================================================\n",
      "Ljung-Box (L1) (Q):                    nan   Jarque-Bera (JB):                  nan\n",
      "Prob(Q):                               nan   Prob(JB):                          nan\n",
      "Heteroskedasticity (H):                nan   Skew:                              nan\n",
      "Prob(H) (two-sided):                   nan   Kurtosis:                          nan\n",
      "===================================================================================\n",
      "\n",
      "Warnings:\n",
      "[1] Covariance matrix calculated using the outer product of gradients (complex-step).\n",
      "[2] Covariance matrix is singular or near-singular, with condition number    inf. Standard errors may be unstable.\n"
     ]
    },
    {
     "name": "stderr",
     "output_type": "stream",
     "text": [
      "/home/campagnoli/anaconda3/lib/python3.11/site-packages/numpy/core/_methods.py:129: RuntimeWarning: invalid value encountered in scalar divide\n",
      "  ret = ret.dtype.type(ret / rcount)\n"
     ]
    }
   ],
   "source": [
    "#Definindo os parâmetros para o modelo SARIM (p,d,q) para a parte não-sazonal e (P,D,Q,m) para a sazonal.\n",
    "sarima_model = smt.tsa.SARIMAX(serie_temporal,\n",
    "                              order=(1, 1, 1),\n",
    "                              seasonal_order=(1, 1, 1, 12),\n",
    "                              enforce_stationarity=False,\n",
    "                              enforce_invertibility=False)\n",
    "\n",
    "\n",
    "#Treinando o modelo com os nossos dados 'disp=False' evita que o modelo imprima muitas informações de convergência\n",
    "sarima_results = sarima_model.fit(disp=False)\n",
    "\n",
    "#Exibindo um resumo do modelo treinado\n",
    "print(sarima_results.summary())\n"
   ]
  },
  {
   "cell_type": "code",
   "execution_count": 105,
   "id": "0f8068b3-8786-4a9b-86e1-4ade5635860a",
   "metadata": {
    "scrolled": true
   },
   "outputs": [
    {
     "name": "stdout",
     "output_type": "stream",
     "text": [
      "Projeção para os próximos 2 anos:\n",
      "2025-01-01    681.238454\n",
      "2026-01-01    614.857517\n",
      "Freq: YS-JAN, Name: predicted_mean, dtype: float64\n",
      "\n",
      "Intervalo de confiança\n",
      "               lower y      upper y\n",
      "2025-01-01  160.358591  1202.118317\n",
      "2026-01-01 -283.253644  1512.968678\n"
     ]
    }
   ],
   "source": [
    "#Gerando projeção para os próximos 2 passos (anos)\n",
    "\n",
    "projecao = sarima_results.get_forecast(steps=2)\n",
    "\n",
    "#Extraindo o intervalo de confiança da projeção. Ele nos dá um limite inferior e um superiro para cada ponto previsto\n",
    "intervalo_confianca = projecao.conf_int()\n",
    "\n",
    "#Exibindo os resultados da projeção \n",
    "print (\"Projeção para os próximos 2 anos:\")\n",
    "print (projecao.predicted_mean)\n",
    "\n",
    "print ('\\nIntervalo de confiança')\n",
    "print (intervalo_confianca)"
   ]
  },
  {
   "cell_type": "code",
   "execution_count": null,
   "id": "67f35aa4-5cc0-4709-85ee-210d5f39e77e",
   "metadata": {},
   "outputs": [],
   "source": [
    "#Configurações do Gráfico\n",
    "plt.figure(figsize=(14, 7))\n",
    "\n",
    "# O índice já está no formato DatetimeIndex que o matplotlib entende.\n",
    "\n",
    "#Plotando a série histórica\n",
    "plt.plot(serie_temporal.index, serie_temporal.values, label='Dados Históricos', marker='o')\n",
    "\n",
    "#Plotando a projeção\n",
    "plt.plot(projecao.predicted_mean.index, projecao.predicted_mean.values, color='red', marker='o', label='Projeção (Forecast)')\n",
    "\n",
    "#Plotando o intervalo de confiança\n",
    "plt.fill_between(intervalo_confianca.index,\n",
    "                 intervalo_confianca.iloc[:, 0], # Limite inferior\n",
    "                 intervalo_confianca.iloc[:, 1], # Limite superior\n",
    "                 color='pink',\n",
    "                 alpha=0.5,\n",
    "                 label='Intervalo de Confiança')\n",
    "\n",
    "#Títulos e Rótulos\n",
    "plt.title('Projeção de Acidentes Ferroviários para os Próximos 2 Anos', fontsize=16)\n",
    "plt.xlabel('Ano', fontsize=12)\n",
    "plt.ylabel('Número de Acidentes', fontsize=12)\n",
    "plt.legend()\n",
    "plt.grid(True)\n",
    "\n",
    "#Exibição\n",
    "plt.show()"
   ]
  },
  {
   "cell_type": "markdown",
   "id": "5c387318-a346-4019-b3aa-e020c4fa743f",
   "metadata": {},
   "source": [
    "## 📚 Apêndice: Glossário de Siglas\n",
    "\n",
    "Para facilitar a compreensão da análise, segue abaixo o significado das principais siglas de concessionárias ferroviárias mencionadas neste estudo:\n",
    "\n",
    "*   **RMS:** Rumo Malha Sul S.A.\n",
    "*   **FCA:** Ferrovia Centro-Atlântica S.A.\n",
    "*   **MRS:** MRS Logística S.A.\n",
    "*   **RMP:** Rumo Malha Paulista S.A.\n",
    "*   **FTL:** Ferrovia Transnordestina Logística S.A.\n",
    "*   **RMO:** Rumo Malha Oeste S.A.\n",
    "*   **EFVM:** Estrada de Ferro Vitória a Minas\n",
    "*   **EFC:** Estrada de Ferro Carajás\n",
    "*   **RMN:** Rumo Malha Norte S.A.\n",
    "*   **FTC:** Ferrovia Tereza Cristina S.A.\n",
    "*   **FNSTN:** Ferrovia Norte-Sul Tramo Norte\n"
   ]
  },
  {
   "cell_type": "markdown",
   "id": "f79bd45b-d404-4740-a3c3-7011e9f5c32a",
   "metadata": {},
   "source": [
    "## ✅ 6. Conclusão\n",
    "\n",
    "Este projeto realizou uma análise de ponta a ponta dos dados de acidentes ferroviários da ANTT, partindo da limpeza e preparação dos dados, passando pela análise exploratória e visualização, e culminando na construção de um modelo de projeção temporal.\n",
    "\n",
    "**Principais Insights e Descobertas:**\n",
    "\n",
    "*   **Qualidade dos Dados como Desafio Real:** O processo de limpeza foi fundamental. A padronização da coluna `perimetro_urbano` — que inicialmente continha mais de 3.000 valores distintos — foi um exemplo prático de como problemas de qualidade de dados podem impactar a análise. A solução revelou um insight poderoso: a esmagadora maioria dos acidentes (**13.776** contra apenas **21**) ocorre fora de perímetros urbanos.\n",
    "\n",
    "*   **Natureza dos Acidentes:** A análise mostrou que três tipos de acidentes dominam as ocorrências: **Descarrilamento** (4.974), **Atropelamento** (4.138) e **Abalroamento** (4.125). Esses três juntos representam a grande maioria dos incidentes, indicando focos claros para possíveis ações de prevenção.\n",
    "\n",
    "*   **Volume vs. Severidade nas Concessionárias:** A análise das concessionárias revelou uma distinção crítica entre volume e gravidade. A concessionária **RMS**, líder em número total de acidentes (3.511), ficou em segundo lugar em fatalidades (312). Em contrapartida, a **MRS**, terceira em volume de acidentes (2.117), foi a líder absoluta em número de óbitos (510), evidenciando que diferentes métricas contam histórias distintas sobre o risco operacional.\n",
    "\n",
    "*   **Tendência Temporal:** A série histórica de acidentes, visualizada no gráfico de linha, mostrou um pico acentuado entre 2010 e 2015, seguido por um período de relativa estabilização em um patamar mais baixo, mas ainda com flutuações anuais.\n",
    "\n",
    "*   **Projeção e Incerteza:** O modelo SARIMA projetou uma leve tendência de queda para os próximos dois anos (2025 e 2026). No entanto, o **amplo intervalo de confiança** da projeção é o achado mais importante aqui. Ele demonstra a alta incerteza inerente a previsões com um número limitado de pontos de dados anuais e nos lembra que modelos de forecasting são ferramentas de direcionamento, não \"bolas de cristal\".\n",
    "\n",
    "**Considerações Finais**\n",
    "\n",
    "Este projeto serve como um portfólio completo, demonstrando competência em todo o ciclo de vida de um projeto de dados: desde a manipulação de dados brutos e a resolução de problemas de qualidade até a geração de insights acionáveis e a aplicação de modelos estatísticos para projeção."
   ]
  }
 ],
 "metadata": {
  "kernelspec": {
   "display_name": "Python 3 (ipykernel)",
   "language": "python",
   "name": "python3"
  },
  "language_info": {
   "codemirror_mode": {
    "name": "ipython",
    "version": 3
   },
   "file_extension": ".py",
   "mimetype": "text/x-python",
   "name": "python",
   "nbconvert_exporter": "python",
   "pygments_lexer": "ipython3",
   "version": "3.11.7"
  }
 },
 "nbformat": 4,
 "nbformat_minor": 5
}
